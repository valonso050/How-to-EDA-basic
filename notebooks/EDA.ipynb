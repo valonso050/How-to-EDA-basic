{
 "cells": [
  {
   "cell_type": "markdown",
   "id": "5c3ad600",
   "metadata": {},
   "source": [
    "### Trial-3\n",
    "IMDB movies dataset - EDA"
   ]
  },
  {
   "cell_type": "code",
   "execution_count": null,
   "id": "000fbf09",
   "metadata": {},
   "outputs": [],
   "source": []
  }
 ],
 "metadata": {
  "kernelspec": {
   "display_name": "base",
   "language": "python",
   "name": "python3"
  },
  "language_info": {
   "name": "python",
   "version": "3.13.5"
  }
 },
 "nbformat": 4,
 "nbformat_minor": 5
}
